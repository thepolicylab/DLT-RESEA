{
 "cells": [
  {
   "cell_type": "markdown",
   "id": "0f1fd1a5",
   "metadata": {},
   "source": [
    "This notebook provides the the scaffold for how the data will be transferred and processed between the Policy Lab's stronghold environment and the Department of Information Technology (DoIT)'s SFTP server."
   ]
  },
  {
   "cell_type": "code",
   "execution_count": 1,
   "id": "5a72105f",
   "metadata": {},
   "outputs": [
    {
     "data": {
      "application/javascript": [
       "\n",
       "            setTimeout(function() {\n",
       "                var nbb_cell_id = 1;\n",
       "                var nbb_unformatted_code = \"%load_ext nb_black\\n\\nimport numpy as np\\nimport pandas as pd\\n\\nfrom dlt import fwf_helper as fwf\\nfrom dlt.config import get_global_config\\nfrom dlt.schema import raw_data_schema\";\n",
       "                var nbb_formatted_code = \"%load_ext nb_black\\n\\nimport numpy as np\\nimport pandas as pd\\n\\nfrom dlt import fwf_helper as fwf\\nfrom dlt.config import get_global_config\\nfrom dlt.schema import raw_data_schema\";\n",
       "                var nbb_cells = Jupyter.notebook.get_cells();\n",
       "                for (var i = 0; i < nbb_cells.length; ++i) {\n",
       "                    if (nbb_cells[i].input_prompt_number == nbb_cell_id) {\n",
       "                        if (nbb_cells[i].get_text() == nbb_unformatted_code) {\n",
       "                             nbb_cells[i].set_text(nbb_formatted_code);\n",
       "                        }\n",
       "                        break;\n",
       "                    }\n",
       "                }\n",
       "            }, 500);\n",
       "            "
      ],
      "text/plain": [
       "<IPython.core.display.Javascript object>"
      ]
     },
     "metadata": {},
     "output_type": "display_data"
    }
   ],
   "source": [
    "%load_ext nb_black\n",
    "\n",
    "import numpy as np\n",
    "import pandas as pd\n",
    "\n",
    "from dlt import fwf_helper as fwf\n",
    "from dlt.config import get_global_config\n",
    "from dlt.schema import raw_data_schema"
   ]
  },
  {
   "cell_type": "code",
   "execution_count": 2,
   "id": "316c13e5",
   "metadata": {},
   "outputs": [
    {
     "name": "stdout",
     "output_type": "stream",
     "text": [
      "['REAEXT', 'REAINT420', 'REALEDG', 'REAWAGE']\n"
     ]
    },
    {
     "data": {
      "application/javascript": [
       "\n",
       "            setTimeout(function() {\n",
       "                var nbb_cell_id = 2;\n",
       "                var nbb_unformatted_code = \"# Read all files that have been SFTP'ed \\ndf_list = fwf.read_all_files()\\n[REAEXT, REAINT420, REALEDG, REAWAGE] = df_list\";\n",
       "                var nbb_formatted_code = \"# Read all files that have been SFTP'ed\\ndf_list = fwf.read_all_files()\\n[REAEXT, REAINT420, REALEDG, REAWAGE] = df_list\";\n",
       "                var nbb_cells = Jupyter.notebook.get_cells();\n",
       "                for (var i = 0; i < nbb_cells.length; ++i) {\n",
       "                    if (nbb_cells[i].input_prompt_number == nbb_cell_id) {\n",
       "                        if (nbb_cells[i].get_text() == nbb_unformatted_code) {\n",
       "                             nbb_cells[i].set_text(nbb_formatted_code);\n",
       "                        }\n",
       "                        break;\n",
       "                    }\n",
       "                }\n",
       "            }, 500);\n",
       "            "
      ],
      "text/plain": [
       "<IPython.core.display.Javascript object>"
      ]
     },
     "metadata": {},
     "output_type": "display_data"
    }
   ],
   "source": [
    "# Read all files that have been SFTP'ed\n",
    "df_list = fwf.read_all_files()\n",
    "[REAEXT, REAINT420, REALEDG, REAWAGE] = df_list"
   ]
  }
 ],
 "metadata": {
  "kernelspec": {
   "display_name": "Python 3 (ipykernel)",
   "language": "python",
   "name": "python3"
  },
  "language_info": {
   "codemirror_mode": {
    "name": "ipython",
    "version": 3
   },
   "file_extension": ".py",
   "mimetype": "text/x-python",
   "name": "python",
   "nbconvert_exporter": "python",
   "pygments_lexer": "ipython3",
   "version": "3.8.8"
  }
 },
 "nbformat": 4,
 "nbformat_minor": 5
}
